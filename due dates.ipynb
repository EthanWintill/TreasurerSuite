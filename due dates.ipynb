{
  "cells": [
    {
      "cell_type": "code",
      "execution_count": 1,
      "metadata": {
        "id": "XmcUiTJn9kFl"
      },
      "outputs": [],
      "source": [
        "import pandas as pd\n",
        "import numpy as np\n",
        "import seaborn as sns\n",
        "import matplotlib.pyplot as plt"
      ]
    },
    {
      "cell_type": "code",
      "execution_count": 2,
      "metadata": {
        "id": "y7tQECgV_L_e"
      },
      "outputs": [],
      "source": [
        "df = pd.read_csv('Master Expense Register.csv')"
      ]
    },
    {
      "cell_type": "code",
      "execution_count": 3,
      "metadata": {},
      "outputs": [
        {
          "data": {
            "text/html": [
              "<div>\n",
              "<style scoped>\n",
              "    .dataframe tbody tr th:only-of-type {\n",
              "        vertical-align: middle;\n",
              "    }\n",
              "\n",
              "    .dataframe tbody tr th {\n",
              "        vertical-align: top;\n",
              "    }\n",
              "\n",
              "    .dataframe thead th {\n",
              "        text-align: right;\n",
              "    }\n",
              "</style>\n",
              "<table border=\"1\" class=\"dataframe\">\n",
              "  <thead>\n",
              "    <tr style=\"text-align: right;\">\n",
              "      <th></th>\n",
              "      <th>3/2/2020</th>\n",
              "      <th>Beginning balance as of 03/02/2020</th>\n",
              "      <th>Unnamed: 2</th>\n",
              "      <th>Unnamed: 3</th>\n",
              "      <th>Unnamed: 4</th>\n",
              "      <th>Unnamed: 5</th>\n",
              "    </tr>\n",
              "  </thead>\n",
              "  <tbody>\n",
              "    <tr>\n",
              "      <th>0</th>\n",
              "      <td>3/2/2020</td>\n",
              "      <td>Counter Credit</td>\n",
              "      <td>8,618.52</td>\n",
              "      <td>$ 8,618.52</td>\n",
              "      <td>NaN</td>\n",
              "      <td>NaN</td>\n",
              "    </tr>\n",
              "    <tr>\n",
              "      <th>1</th>\n",
              "      <td>3/2/2020</td>\n",
              "      <td>Zelle Transfer Conf# 2de792970; HINKLE, PRESTON</td>\n",
              "      <td>200.00</td>\n",
              "      <td>$ 8,818.52</td>\n",
              "      <td>Dues</td>\n",
              "      <td>Preston Hinkle</td>\n",
              "    </tr>\n",
              "    <tr>\n",
              "      <th>2</th>\n",
              "      <td>3/9/2020</td>\n",
              "      <td>Zelle Transfer Conf# 092BE9F41; CHRISTOPHER MA...</td>\n",
              "      <td>350.00</td>\n",
              "      <td>$ 9,168.52</td>\n",
              "      <td>Dues</td>\n",
              "      <td>Jarod Maxson</td>\n",
              "    </tr>\n",
              "    <tr>\n",
              "      <th>3</th>\n",
              "      <td>3/9/2020</td>\n",
              "      <td>VENMO DES:CASHOUT ID:3205252458 INDN:TYLER MOT...</td>\n",
              "      <td>263.00</td>\n",
              "      <td>$ 9,431.52</td>\n",
              "      <td>Dues</td>\n",
              "      <td>Tyler Mote</td>\n",
              "    </tr>\n",
              "    <tr>\n",
              "      <th>4</th>\n",
              "      <td>3/9/2020</td>\n",
              "      <td>VENMO DES:CASHOUT ID:3206423965 INDN:TYLER MOT...</td>\n",
              "      <td>250.00</td>\n",
              "      <td>$ 9,681.52</td>\n",
              "      <td>Dues</td>\n",
              "      <td>Patrick Frazho</td>\n",
              "    </tr>\n",
              "    <tr>\n",
              "      <th>5</th>\n",
              "      <td>3/9/2020</td>\n",
              "      <td>VENMO DES:VERIFYBAN ID:3205250082 INDN:TYLER M...</td>\n",
              "      <td>0.16</td>\n",
              "      <td>$ 9,681.68</td>\n",
              "      <td>NaN</td>\n",
              "      <td>NaN</td>\n",
              "    </tr>\n",
              "    <tr>\n",
              "      <th>6</th>\n",
              "      <td>3/9/2020</td>\n",
              "      <td>VENMO DES:VERIFYBAN ID:3205250079 INDN:TYLER M...</td>\n",
              "      <td>0.13</td>\n",
              "      <td>$ 9,681.81</td>\n",
              "      <td>NaN</td>\n",
              "      <td>NaN</td>\n",
              "    </tr>\n",
              "    <tr>\n",
              "      <th>7</th>\n",
              "      <td>3/9/2020</td>\n",
              "      <td>VENMO DES:VERIFYBAN ID:3205250085 INDN:TYLER M...</td>\n",
              "      <td>-0.16</td>\n",
              "      <td>$ 9,681.65</td>\n",
              "      <td>NaN</td>\n",
              "      <td>NaN</td>\n",
              "    </tr>\n",
              "    <tr>\n",
              "      <th>8</th>\n",
              "      <td>3/9/2020</td>\n",
              "      <td>VENMO DES:VERIFYBAN ID:3205250084 INDN:TYLER M...</td>\n",
              "      <td>-0.13</td>\n",
              "      <td>$ 9,681.52</td>\n",
              "      <td>NaN</td>\n",
              "      <td>NaN</td>\n",
              "    </tr>\n",
              "    <tr>\n",
              "      <th>9</th>\n",
              "      <td>3/12/2020</td>\n",
              "      <td>VENMO DES:CASHOUT ID:3227545441 INDN:TYLER MOT...</td>\n",
              "      <td>250.00</td>\n",
              "      <td>$ 9,931.52</td>\n",
              "      <td>Dues</td>\n",
              "      <td>Seth Hussey</td>\n",
              "    </tr>\n",
              "  </tbody>\n",
              "</table>\n",
              "</div>"
            ],
            "text/plain": [
              "    3/2/2020                 Beginning balance as of 03/02/2020 Unnamed: 2  \\\n",
              "0   3/2/2020                                     Counter Credit   8,618.52   \n",
              "1   3/2/2020    Zelle Transfer Conf# 2de792970; HINKLE, PRESTON     200.00   \n",
              "2   3/9/2020  Zelle Transfer Conf# 092BE9F41; CHRISTOPHER MA...     350.00   \n",
              "3   3/9/2020  VENMO DES:CASHOUT ID:3205252458 INDN:TYLER MOT...     263.00   \n",
              "4   3/9/2020  VENMO DES:CASHOUT ID:3206423965 INDN:TYLER MOT...     250.00   \n",
              "5   3/9/2020  VENMO DES:VERIFYBAN ID:3205250082 INDN:TYLER M...       0.16   \n",
              "6   3/9/2020  VENMO DES:VERIFYBAN ID:3205250079 INDN:TYLER M...       0.13   \n",
              "7   3/9/2020  VENMO DES:VERIFYBAN ID:3205250085 INDN:TYLER M...      -0.16   \n",
              "8   3/9/2020  VENMO DES:VERIFYBAN ID:3205250084 INDN:TYLER M...      -0.13   \n",
              "9  3/12/2020  VENMO DES:CASHOUT ID:3227545441 INDN:TYLER MOT...     250.00   \n",
              "\n",
              "     Unnamed: 3 Unnamed: 4      Unnamed: 5  \n",
              "0   $ 8,618.52         NaN             NaN  \n",
              "1   $ 8,818.52        Dues  Preston Hinkle  \n",
              "2   $ 9,168.52        Dues    Jarod Maxson  \n",
              "3   $ 9,431.52        Dues      Tyler Mote  \n",
              "4   $ 9,681.52        Dues  Patrick Frazho  \n",
              "5   $ 9,681.68         NaN             NaN  \n",
              "6   $ 9,681.81         NaN             NaN  \n",
              "7   $ 9,681.65         NaN             NaN  \n",
              "8   $ 9,681.52         NaN             NaN  \n",
              "9   $ 9,931.52        Dues     Seth Hussey  "
            ]
          },
          "execution_count": 3,
          "metadata": {},
          "output_type": "execute_result"
        }
      ],
      "source": [
        "df.head(10)"
      ]
    },
    {
      "cell_type": "code",
      "execution_count": 4,
      "metadata": {},
      "outputs": [],
      "source": [
        "df.columns = ['date', 'desc', 'amount', 'balance', 'category', 'payor/payee']"
      ]
    },
    {
      "cell_type": "code",
      "execution_count": 5,
      "metadata": {},
      "outputs": [],
      "source": [
        "df.drop(columns=['payor/payee','category','balance','desc'], inplace=True)"
      ]
    },
    {
      "cell_type": "code",
      "execution_count": 6,
      "metadata": {},
      "outputs": [
        {
          "data": {
            "text/html": [
              "<div>\n",
              "<style scoped>\n",
              "    .dataframe tbody tr th:only-of-type {\n",
              "        vertical-align: middle;\n",
              "    }\n",
              "\n",
              "    .dataframe tbody tr th {\n",
              "        vertical-align: top;\n",
              "    }\n",
              "\n",
              "    .dataframe thead th {\n",
              "        text-align: right;\n",
              "    }\n",
              "</style>\n",
              "<table border=\"1\" class=\"dataframe\">\n",
              "  <thead>\n",
              "    <tr style=\"text-align: right;\">\n",
              "      <th></th>\n",
              "      <th>date</th>\n",
              "      <th>amount</th>\n",
              "    </tr>\n",
              "  </thead>\n",
              "  <tbody>\n",
              "    <tr>\n",
              "      <th>0</th>\n",
              "      <td>3/2/2020</td>\n",
              "      <td>8,618.52</td>\n",
              "    </tr>\n",
              "    <tr>\n",
              "      <th>1</th>\n",
              "      <td>3/2/2020</td>\n",
              "      <td>200.00</td>\n",
              "    </tr>\n",
              "    <tr>\n",
              "      <th>2</th>\n",
              "      <td>3/9/2020</td>\n",
              "      <td>350.00</td>\n",
              "    </tr>\n",
              "    <tr>\n",
              "      <th>3</th>\n",
              "      <td>3/9/2020</td>\n",
              "      <td>263.00</td>\n",
              "    </tr>\n",
              "    <tr>\n",
              "      <th>4</th>\n",
              "      <td>3/9/2020</td>\n",
              "      <td>250.00</td>\n",
              "    </tr>\n",
              "    <tr>\n",
              "      <th>5</th>\n",
              "      <td>3/9/2020</td>\n",
              "      <td>0.16</td>\n",
              "    </tr>\n",
              "    <tr>\n",
              "      <th>6</th>\n",
              "      <td>3/9/2020</td>\n",
              "      <td>0.13</td>\n",
              "    </tr>\n",
              "    <tr>\n",
              "      <th>7</th>\n",
              "      <td>3/9/2020</td>\n",
              "      <td>-0.16</td>\n",
              "    </tr>\n",
              "    <tr>\n",
              "      <th>8</th>\n",
              "      <td>3/9/2020</td>\n",
              "      <td>-0.13</td>\n",
              "    </tr>\n",
              "    <tr>\n",
              "      <th>9</th>\n",
              "      <td>3/12/2020</td>\n",
              "      <td>250.00</td>\n",
              "    </tr>\n",
              "  </tbody>\n",
              "</table>\n",
              "</div>"
            ],
            "text/plain": [
              "        date    amount\n",
              "0   3/2/2020  8,618.52\n",
              "1   3/2/2020    200.00\n",
              "2   3/9/2020    350.00\n",
              "3   3/9/2020    263.00\n",
              "4   3/9/2020    250.00\n",
              "5   3/9/2020      0.16\n",
              "6   3/9/2020      0.13\n",
              "7   3/9/2020     -0.16\n",
              "8   3/9/2020     -0.13\n",
              "9  3/12/2020    250.00"
            ]
          },
          "execution_count": 6,
          "metadata": {},
          "output_type": "execute_result"
        }
      ],
      "source": [
        "df.head(10)"
      ]
    },
    {
      "cell_type": "code",
      "execution_count": 7,
      "metadata": {},
      "outputs": [],
      "source": [
        "start = '8/1/2022'\n",
        "end = '1/15/2023'"
      ]
    },
    {
      "cell_type": "code",
      "execution_count": 8,
      "metadata": {},
      "outputs": [
        {
          "data": {
            "text/plain": [
              "date      datetime64[ns]\n",
              "amount           float64\n",
              "dtype: object"
            ]
          },
          "execution_count": 8,
          "metadata": {},
          "output_type": "execute_result"
        }
      ],
      "source": [
        "df['amount'] = df['amount'].str.replace(',','')\n",
        "df['amount'] = pd.to_numeric(df['amount'])\n",
        "df['date'] =  pd.to_datetime(df['date'])\n",
        "df.dtypes"
      ]
    },
    {
      "cell_type": "code",
      "execution_count": 9,
      "metadata": {},
      "outputs": [],
      "source": [
        "fall22 = df[ (df['date']>start) & (df['date']<end)]"
      ]
    },
    {
      "cell_type": "code",
      "execution_count": 10,
      "metadata": {},
      "outputs": [
        {
          "name": "stdout",
          "output_type": "stream",
          "text": [
            "<class 'pandas.core.frame.DataFrame'>\n",
            "Int64Index: 361 entries, 1148 to 1508\n",
            "Data columns (total 2 columns):\n",
            " #   Column  Non-Null Count  Dtype         \n",
            "---  ------  --------------  -----         \n",
            " 0   date    361 non-null    datetime64[ns]\n",
            " 1   amount  361 non-null    float64       \n",
            "dtypes: datetime64[ns](1), float64(1)\n",
            "memory usage: 8.5 KB\n"
          ]
        }
      ],
      "source": [
        "fall22.info()"
      ]
    },
    {
      "cell_type": "code",
      "execution_count": 11,
      "metadata": {},
      "outputs": [
        {
          "data": {
            "text/html": [
              "<div>\n",
              "<style scoped>\n",
              "    .dataframe tbody tr th:only-of-type {\n",
              "        vertical-align: middle;\n",
              "    }\n",
              "\n",
              "    .dataframe tbody tr th {\n",
              "        vertical-align: top;\n",
              "    }\n",
              "\n",
              "    .dataframe thead th {\n",
              "        text-align: right;\n",
              "    }\n",
              "</style>\n",
              "<table border=\"1\" class=\"dataframe\">\n",
              "  <thead>\n",
              "    <tr style=\"text-align: right;\">\n",
              "      <th></th>\n",
              "      <th>date</th>\n",
              "      <th>amount</th>\n",
              "    </tr>\n",
              "  </thead>\n",
              "  <tbody>\n",
              "    <tr>\n",
              "      <th>1149</th>\n",
              "      <td>2022-08-02</td>\n",
              "      <td>-228.98</td>\n",
              "    </tr>\n",
              "    <tr>\n",
              "      <th>1150</th>\n",
              "      <td>2022-08-02</td>\n",
              "      <td>-1.00</td>\n",
              "    </tr>\n",
              "    <tr>\n",
              "      <th>1152</th>\n",
              "      <td>2022-08-03</td>\n",
              "      <td>-7.14</td>\n",
              "    </tr>\n",
              "    <tr>\n",
              "      <th>1163</th>\n",
              "      <td>2022-08-08</td>\n",
              "      <td>-51.14</td>\n",
              "    </tr>\n",
              "    <tr>\n",
              "      <th>1164</th>\n",
              "      <td>2022-08-09</td>\n",
              "      <td>-1134.44</td>\n",
              "    </tr>\n",
              "    <tr>\n",
              "      <th>1165</th>\n",
              "      <td>2022-08-09</td>\n",
              "      <td>-491.38</td>\n",
              "    </tr>\n",
              "    <tr>\n",
              "      <th>1168</th>\n",
              "      <td>2022-08-10</td>\n",
              "      <td>-256.44</td>\n",
              "    </tr>\n",
              "    <tr>\n",
              "      <th>1169</th>\n",
              "      <td>2022-08-10</td>\n",
              "      <td>-196.97</td>\n",
              "    </tr>\n",
              "    <tr>\n",
              "      <th>1171</th>\n",
              "      <td>2022-08-11</td>\n",
              "      <td>-866.69</td>\n",
              "    </tr>\n",
              "    <tr>\n",
              "      <th>1172</th>\n",
              "      <td>2022-08-11</td>\n",
              "      <td>-38.92</td>\n",
              "    </tr>\n",
              "  </tbody>\n",
              "</table>\n",
              "</div>"
            ],
            "text/plain": [
              "           date   amount\n",
              "1149 2022-08-02  -228.98\n",
              "1150 2022-08-02    -1.00\n",
              "1152 2022-08-03    -7.14\n",
              "1163 2022-08-08   -51.14\n",
              "1164 2022-08-09 -1134.44\n",
              "1165 2022-08-09  -491.38\n",
              "1168 2022-08-10  -256.44\n",
              "1169 2022-08-10  -196.97\n",
              "1171 2022-08-11  -866.69\n",
              "1172 2022-08-11   -38.92"
            ]
          },
          "execution_count": 11,
          "metadata": {},
          "output_type": "execute_result"
        }
      ],
      "source": [
        "fall22 = fall22[fall22['amount']<0]\n",
        "fall22.head(10)"
      ]
    },
    {
      "cell_type": "code",
      "execution_count": 12,
      "metadata": {},
      "outputs": [
        {
          "name": "stdout",
          "output_type": "stream",
          "text": [
            "-69187.07\n"
          ]
        }
      ],
      "source": [
        "print(fall22['amount'].sum())"
      ]
    },
    {
      "attachments": {},
      "cell_type": "markdown",
      "metadata": {},
      "source": [
        "# looks way too high"
      ]
    },
    {
      "cell_type": "code",
      "execution_count": 13,
      "metadata": {},
      "outputs": [
        {
          "data": {
            "text/html": [
              "<div>\n",
              "<style scoped>\n",
              "    .dataframe tbody tr th:only-of-type {\n",
              "        vertical-align: middle;\n",
              "    }\n",
              "\n",
              "    .dataframe tbody tr th {\n",
              "        vertical-align: top;\n",
              "    }\n",
              "\n",
              "    .dataframe thead th {\n",
              "        text-align: right;\n",
              "    }\n",
              "</style>\n",
              "<table border=\"1\" class=\"dataframe\">\n",
              "  <thead>\n",
              "    <tr style=\"text-align: right;\">\n",
              "      <th></th>\n",
              "      <th>date</th>\n",
              "      <th>amount</th>\n",
              "    </tr>\n",
              "  </thead>\n",
              "  <tbody>\n",
              "    <tr>\n",
              "      <th>1164</th>\n",
              "      <td>2022-08-09</td>\n",
              "      <td>-1134.44</td>\n",
              "    </tr>\n",
              "    <tr>\n",
              "      <th>1194</th>\n",
              "      <td>2022-08-15</td>\n",
              "      <td>-7800.00</td>\n",
              "    </tr>\n",
              "    <tr>\n",
              "      <th>1267</th>\n",
              "      <td>2022-09-07</td>\n",
              "      <td>-1935.94</td>\n",
              "    </tr>\n",
              "    <tr>\n",
              "      <th>1295</th>\n",
              "      <td>2022-09-12</td>\n",
              "      <td>-2750.00</td>\n",
              "    </tr>\n",
              "    <tr>\n",
              "      <th>1306</th>\n",
              "      <td>2022-09-15</td>\n",
              "      <td>-1600.00</td>\n",
              "    </tr>\n",
              "    <tr>\n",
              "      <th>1321</th>\n",
              "      <td>2022-09-23</td>\n",
              "      <td>-1018.00</td>\n",
              "    </tr>\n",
              "    <tr>\n",
              "      <th>1365</th>\n",
              "      <td>2022-10-11</td>\n",
              "      <td>-1202.29</td>\n",
              "    </tr>\n",
              "    <tr>\n",
              "      <th>1383</th>\n",
              "      <td>2022-10-18</td>\n",
              "      <td>-1100.00</td>\n",
              "    </tr>\n",
              "    <tr>\n",
              "      <th>1384</th>\n",
              "      <td>2022-10-18</td>\n",
              "      <td>-5250.00</td>\n",
              "    </tr>\n",
              "    <tr>\n",
              "      <th>1393</th>\n",
              "      <td>2022-10-21</td>\n",
              "      <td>-4000.00</td>\n",
              "    </tr>\n",
              "    <tr>\n",
              "      <th>1407</th>\n",
              "      <td>2022-10-26</td>\n",
              "      <td>-1896.54</td>\n",
              "    </tr>\n",
              "    <tr>\n",
              "      <th>1454</th>\n",
              "      <td>2022-11-09</td>\n",
              "      <td>-11721.00</td>\n",
              "    </tr>\n",
              "    <tr>\n",
              "      <th>1468</th>\n",
              "      <td>2022-11-14</td>\n",
              "      <td>-2250.00</td>\n",
              "    </tr>\n",
              "    <tr>\n",
              "      <th>1487</th>\n",
              "      <td>2022-12-28</td>\n",
              "      <td>-1184.20</td>\n",
              "    </tr>\n",
              "  </tbody>\n",
              "</table>\n",
              "</div>"
            ],
            "text/plain": [
              "           date    amount\n",
              "1164 2022-08-09  -1134.44\n",
              "1194 2022-08-15  -7800.00\n",
              "1267 2022-09-07  -1935.94\n",
              "1295 2022-09-12  -2750.00\n",
              "1306 2022-09-15  -1600.00\n",
              "1321 2022-09-23  -1018.00\n",
              "1365 2022-10-11  -1202.29\n",
              "1383 2022-10-18  -1100.00\n",
              "1384 2022-10-18  -5250.00\n",
              "1393 2022-10-21  -4000.00\n",
              "1407 2022-10-26  -1896.54\n",
              "1454 2022-11-09 -11721.00\n",
              "1468 2022-11-14  -2250.00\n",
              "1487 2022-12-28  -1184.20"
            ]
          },
          "execution_count": 13,
          "metadata": {},
          "output_type": "execute_result"
        }
      ],
      "source": [
        "fall22[fall22['amount']<-1000]"
      ]
    },
    {
      "cell_type": "code",
      "execution_count": 14,
      "metadata": {},
      "outputs": [],
      "source": [
        "fall22.drop([1194,1267], inplace=True)"
      ]
    },
    {
      "cell_type": "code",
      "execution_count": 15,
      "metadata": {},
      "outputs": [
        {
          "name": "stdout",
          "output_type": "stream",
          "text": [
            "-59451.130000000005\n"
          ]
        }
      ],
      "source": [
        "print(fall22['amount'].sum())"
      ]
    },
    {
      "attachments": {},
      "cell_type": "markdown",
      "metadata": {},
      "source": [
        "## looks much better, now for calculating dues dates"
      ]
    },
    {
      "cell_type": "code",
      "execution_count": 29,
      "metadata": {},
      "outputs": [],
      "source": [
        "total = fall22['amount'].sum()\n",
        "fall22['totalspent'] = fall22['amount'].cumsum()\n",
        "percentspent = 0.5 "
      ]
    },
    {
      "cell_type": "code",
      "execution_count": 28,
      "metadata": {},
      "outputs": [
        {
          "data": {
            "text/plain": [
              "Timestamp('2023-01-12 00:00:00')"
            ]
          },
          "execution_count": 28,
          "metadata": {},
          "output_type": "execute_result"
        }
      ],
      "source": [
        "fall22.loc[fall22['totalspent']>=total*percentspent, 'date'].iloc[-1]\n"
      ]
    },
    {
      "cell_type": "markdown",
      "metadata": {},
      "source": [
        "Regular: \n",
        "8/15  - $250\n",
        "9/05  - $185\n",
        "9/30  - $185\n",
        "10/25 - $130\n",
        "\n",
        "PP:\n",
        "8/15  - $150\n",
        "8/25  - $100\n",
        "9/05  - $90\n",
        "9/18  - $90\n",
        "9/30  - $90\n",
        "10/14 - $90\n",
        "10/25 - $75\n",
        "11/10 - $65\n",
        "\n",
        "OGP:\n",
        "8/15  - $200\n",
        "9/05  - $100\n",
        "9/30  - $100\n",
        "10/25 - $100\n",
        "\n",
        "House Boy:\n",
        "8/15  - $240\n",
        "9/05  - $165\n",
        "9/30  - $155\n",
        "10/25 - $90\n",
        "\n",
        "Brothers, above are the due dates for dues this coming semester. The dates have been picked in a way that due payments cover events before they happen, rather than reimbursing the bank account after the event. This means that from now on anyone who misses a payment will be barred from paid social events until they are caught up. Hopefully this will make us more secure financially because we won't have to pay for people who miss dues. \n",
        "i.e. if 10 people have outstanding dues, that's 10 people that we don't have to buy beer, liquor, spots on a bus etc. \n",
        "This doesn't necesarily include thirsty but depending on circumstance, like if you're not texting me at all or if it's like your third time being late, it might. \n",
        "We have big, ethnic, beautiful semester ahead of us fellas and these payments have to come in when they're needed. \n"
      ]
    }
  ],
  "metadata": {
    "colab": {
      "collapsed_sections": [],
      "name": "SpaceshipTitanic.ipynb",
      "provenance": []
    },
    "kernelspec": {
      "display_name": "Python 3",
      "name": "python3"
    },
    "language_info": {
      "codemirror_mode": {
        "name": "ipython",
        "version": 3
      },
      "file_extension": ".py",
      "mimetype": "text/x-python",
      "name": "python",
      "nbconvert_exporter": "python",
      "pygments_lexer": "ipython3",
      "version": "3.9.10"
    }
  },
  "nbformat": 4,
  "nbformat_minor": 0
}
